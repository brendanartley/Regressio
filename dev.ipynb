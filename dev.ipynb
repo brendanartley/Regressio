{
 "cells": [
  {
   "cell_type": "code",
   "execution_count": 137,
   "metadata": {},
   "outputs": [],
   "source": [
    "class isotonic_regression():\n",
    "    '''\n",
    "    Isotonic regression model.\n",
    "\n",
    "    TO DO:\n",
    "    - Does not properly work when y does not start at 0. \n",
    "    '''\n",
    "    \n",
    "    def __init__(self, breakpoints):\n",
    "        self.breakpoints = breakpoints\n",
    "        self.slopes = np.zeros(breakpoints)\n",
    "        self.last_binvals = np.zeros(breakpoints+1)\n",
    "        self.bins = None #set this on model.fit()\n",
    "\n",
    "    \n",
    "    def fit(self, x, y):\n",
    "        # check inputs are the same length\n",
    "        if len(x) != len(y):\n",
    "            raise ValueError('x and y must be of the same length')\n",
    "\n",
    "        ysum = y.min()\n",
    "        last_binval = y.min()\n",
    "        self.last_binvals[-1] = y.min()\n",
    "        self.bins = np.linspace(x.min(), x.max(), num=self.breakpoints+1)\n",
    "\n",
    "        for i in range(self.breakpoints):\n",
    "            # Select points in the current bin\n",
    "            bin_x = x[np.logical_and(x>self.bins[i], x<=self.bins[i+1])]\n",
    "            if len(bin_x) < 1: # >= 1 data point in each bin.\n",
    "                raise ValueError('Need at least 1 data point in each segment')\n",
    "\n",
    "            # Select bin ys and shift bin starting x and starting y to 0,0\n",
    "            bin_y = y[np.logical_and(x>self.bins[i], x<=self.bins[i+1]).flatten()]\n",
    "            bin_y = bin_y - last_binval\n",
    "            bin_x = bin_x - self.bins[i]\n",
    "\n",
    "            # Find best fit line for the bin\n",
    "            slope = self.OLS(bin_x, bin_y)\n",
    "            self.slopes[i] = slope\n",
    "\n",
    "            # Store the last value in the bin (to add onto next bin)\n",
    "            last_binval = self.line(self.bins[1] - self.bins[0], slope, last_binval)\n",
    "            self.last_binvals[i] = last_binval\n",
    "            ysum += last_binval\n",
    "    \n",
    "        # plot fit model\n",
    "        self.plot_model(x, y)\n",
    "\n",
    "    def predict(self, x):\n",
    "        preds = np.zeros(len(x))\n",
    "        for i in range(len(x)):\n",
    "            broke = False\n",
    "            x_raw = x[i] - self.bins[0]\n",
    "            if x[i] <= self.bins[0]:\n",
    "                preds[i] = self.last_binvals[-1]\n",
    "                continue\n",
    "            else:\n",
    "                for j in range(len(self.bins)-1):\n",
    "                    if x[i] > self.bins[j] and x[i] < self.bins[j+1]:\n",
    "                        preds[i] = self.line(x_raw, self.slopes[j], self.last_binvals[j-1])\n",
    "                        broke = True\n",
    "                        break\n",
    "                    else:\n",
    "                        x_raw -= self.bins[1] - self.bins[0]\n",
    "                if broke == False:\n",
    "                    preds[i] = self.line(x_raw, self.slopes[j], self.last_binvals[j])\n",
    "        return preds\n",
    "    \n",
    "    @staticmethod\n",
    "    def line(x, slope, intercept):\n",
    "        return slope*x + intercept\n",
    "\n",
    "    @staticmethod\n",
    "    def OLS(x, y):\n",
    "        x = x.reshape(-1,1)\n",
    "        xTx = x.T.dot(x)\n",
    "        xTx_inv = np.linalg.inv(xTx)\n",
    "        slope = xTx_inv.dot(x.T.dot(y))\n",
    "        return max(np.asarray([0]), slope)\n",
    "    \n",
    "    def plot_model(self, x, y):\n",
    "        # Technically I may be able to just plot breakpoints and connect them.\n",
    "        modelx = np.arange(x.min(), x.max(), 0.23)\n",
    "        modely = self.predict(modelx)\n",
    "\n",
    "        plt.scatter(modelx, modely, s=5, color='tab:orange')\n",
    "        plt.scatter(x, y)\n",
    "\n",
    "        for i in range(len(self.bins)):\n",
    "            plt.axvline(x = self.bins[i], alpha=0.2)\n",
    "        plt.show()"
   ]
  },
  {
   "cell_type": "code",
   "execution_count": 138,
   "metadata": {},
   "outputs": [
    {
     "data": {
      "image/png": "[encoded data removed]",
      "text/plain": [
       "<Figure size 720x360 with 1 Axes>"
      ]
     },
     "metadata": {
      "needs_background": "light"
     },
     "output_type": "display_data"
    },
    {
     "data": {
      "image/png": "[encoded data removed]",
      "text/plain": [
       "<Figure size 720x360 with 1 Axes>"
      ]
     },
     "metadata": {
      "needs_background": "light"
     },
     "output_type": "display_data"
    }
   ],
   "source": [
    "import numpy as np\n",
    "import matplotlib.pyplot as plt\n",
    "\n",
    "# from regressio.models import linear_regression\n",
    "from regressio.datagen import generate_isotonic_sample\n",
    "\n",
    "%matplotlib inline\n",
    "plt.rcParams['figure.figsize'] = (10, 5)\n",
    "\n",
    "n = 100\n",
    "np.random.seed(2)\n",
    "\n",
    "x, y = generate_isotonic_sample(n, plot=True)\n",
    "model = isotonic_regression(5)\n",
    "model.fit(x, y)"
   ]
  },
  {
   "cell_type": "code",
   "execution_count": null,
   "metadata": {},
   "outputs": [],
   "source": []
  }
 ],
 "metadata": {
  "kernelspec": {
   "display_name": "Python 3.8.3 ('venv': venv)",
   "language": "python",
   "name": "python3"
  },
  "language_info": {
   "codemirror_mode": {
    "name": "ipython",
    "version": 3
   },
   "file_extension": ".py",
   "mimetype": "text/x-python",
   "name": "python",
   "nbconvert_exporter": "python",
   "pygments_lexer": "ipython3",
   "version": "3.8.3"
  },
  "orig_nbformat": 4,
  "vscode": {
   "interpreter": {
    "hash": "4b8bbb73b202a4f1839280b1830a3a8b9fc5415f2757f5d467ba1b8387db4990"
   }
  }
 },
 "nbformat": 4,
 "nbformat_minor": 2
}
