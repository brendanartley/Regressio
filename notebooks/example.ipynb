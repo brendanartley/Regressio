{
 "cells": [
  {
   "cell_type": "code",
   "execution_count": null,
   "metadata": {},
   "outputs": [],
   "source": [
    "import numpy as np\n",
    "import matplotlib.pyplot as plt\n",
    "\n",
    "%matplotlib inline\n",
    "plt.rcParams['figure.figsize'] = (10, 5)"
   ]
  },
  {
   "cell_type": "code",
   "execution_count": null,
   "metadata": {},
   "outputs": [],
   "source": [
    "from regressio.models import isotonic_regression\n",
    "from regressio.datagen import generate_isotonic_sample\n",
    "\n",
    "np.random.seed(1)\n",
    "x, y = generate_isotonic_sample(100)\n",
    "\n",
    "model = isotonic_regression(knots=10)\n",
    "model.fit(x, y, plot=True)"
   ]
  },
  {
   "cell_type": "code",
   "execution_count": null,
   "metadata": {},
   "outputs": [],
   "source": [
    "from regressio.models import linear_regression\n",
    "from regressio.datagen import generate_random_walk\n",
    "\n",
    "np.random.seed(1)\n",
    "x, y = generate_random_walk(100)\n",
    "\n",
    "model = linear_regression(degree=10)\n",
    "model.fit(x, y, plot=True)"
   ]
  },
  {
   "cell_type": "code",
   "execution_count": null,
   "metadata": {},
   "outputs": [],
   "source": []
  }
 ],
 "metadata": {
  "kernelspec": {
   "display_name": "Python 3.8.3 ('venv': venv)",
   "language": "python",
   "name": "python3"
  },
  "language_info": {
   "codemirror_mode": {
    "name": "ipython",
    "version": 3
   },
   "file_extension": ".py",
   "mimetype": "text/x-python",
   "name": "python",
   "nbconvert_exporter": "python",
   "pygments_lexer": "ipython3",
   "version": "3.8.3"
  },
  "orig_nbformat": 4,
  "vscode": {
   "interpreter": {
    "hash": "4b8bbb73b202a4f1839280b1830a3a8b9fc5415f2757f5d467ba1b8387db4990"
   }
  }
 },
 "nbformat": 4,
 "nbformat_minor": 2
}
